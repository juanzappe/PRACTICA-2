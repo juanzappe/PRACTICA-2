{
 "cells": [
  {
   "cell_type": "markdown",
   "id": "303cf0c0",
   "metadata": {},
   "source": [
    "# EJERCICIO 1\n",
    "\n",
    "## Solo imprime aquellas oraciones cuya segunda palabra empiece por vocal"
   ]
  },
  {
   "cell_type": "code",
   "execution_count": 8,
   "id": "b34c8bf5",
   "metadata": {},
   "outputs": [
    {
     "name": "stdout",
     "output_type": "stream",
     "text": [
      "Beautiful is better than ugly\n",
      " Explicit is better than implicit\n",
      " Simple is better than complex\n",
      "Complex is better than complicated\n",
      "Flat is better than nested\n",
      "Sparse is better than dense\n"
     ]
    }
   ],
   "source": [
    "zen = \"Beautiful is better than ugly. \" \\\n",
    "\"Explicit is better than implicit. \" \\\n",
    "\"Simple is better than complex.\" \\\n",
    "\"Complex is better than complicated.\" \\\n",
    "\"Flat is better than nested.\" \\\n",
    "\"Sparse is better than dense. \" \\\n",
    "\"Readability counts.\"\n",
    "\n",
    "# Separar el Zen de Python en líneas\n",
    "lineas = zen.split('.')\n",
    "\n",
    "# Filtrar las líneas donde la segunda palabra empieza con una vocal\n",
    "for linea in lineas:\n",
    "    palabras = linea.split()\n",
    "    if len(palabras) > 1 and palabras[1][0].lower() in 'aeiou':\n",
    "        print(linea)"
   ]
  },
  {
   "cell_type": "markdown",
   "id": "dd31a785",
   "metadata": {},
   "source": [
    "# EJERCICIO 2"
   ]
  }
 ],
 "metadata": {
  "kernelspec": {
   "display_name": "venv",
   "language": "python",
   "name": "python3"
  },
  "language_info": {
   "codemirror_mode": {
    "name": "ipython",
    "version": 3
   },
   "file_extension": ".py",
   "mimetype": "text/x-python",
   "name": "python",
   "nbconvert_exporter": "python",
   "pygments_lexer": "ipython3",
   "version": "3.12.9"
  }
 },
 "nbformat": 4,
 "nbformat_minor": 5
}
